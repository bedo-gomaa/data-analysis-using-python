{
 "cells": [
  {
   "cell_type": "code",
   "execution_count": 1,
   "id": "4d37e3b5",
   "metadata": {
    "_cell_guid": "b1076dfc-b9ad-4769-8c92-a6c4dae69d19",
    "_uuid": "8f2839f25d086af736a60e9eeb907d3b93b6e0e5",
    "execution": {
     "iopub.execute_input": "2024-01-11T05:30:06.512854Z",
     "iopub.status.busy": "2024-01-11T05:30:06.512517Z",
     "iopub.status.idle": "2024-01-11T05:30:06.824599Z",
     "shell.execute_reply": "2024-01-11T05:30:06.823643Z"
    },
    "papermill": {
     "duration": 0.322258,
     "end_time": "2024-01-11T05:30:06.826806",
     "exception": false,
     "start_time": "2024-01-11T05:30:06.504548",
     "status": "completed"
    },
    "tags": []
   },
   "outputs": [
    {
     "name": "stdout",
     "output_type": "stream",
     "text": [
      "/kaggle/input/ielts-success-stories-dataset/IELTS_Success_Stories_Dataset.xlsx\n"
     ]
    }
   ],
   "source": [
    "# This Python 3 environment comes with many helpful analytics libraries installed\n",
    "# It is defined by the kaggle/python Docker image: https://github.com/kaggle/docker-python\n",
    "# For example, here's several helpful packages to load\n",
    "\n",
    "import numpy as np # linear algebra\n",
    "import pandas as pd # data processing, CSV file I/O (e.g. pd.read_csv)\n",
    "\n",
    "# Input data files are available in the read-only \"../input/\" directory\n",
    "# For example, running this (by clicking run or pressing Shift+Enter) will list all files under the input directory\n",
    "\n",
    "import os\n",
    "for dirname, _, filenames in os.walk('/kaggle/input'):\n",
    "    for filename in filenames:\n",
    "        print(os.path.join(dirname, filename))\n",
    "\n",
    "# You can write up to 20GB to the current directory (/kaggle/working/) that gets preserved as output when you create a version using \"Save & Run All\" \n",
    "# You can also write temporary files to /kaggle/temp/, but they won't be saved outside of the current session"
   ]
  },
  {
   "cell_type": "markdown",
   "id": "651b048e",
   "metadata": {
    "papermill": {
     "duration": 0.006523,
     "end_time": "2024-01-11T05:30:06.840156",
     "exception": false,
     "start_time": "2024-01-11T05:30:06.833633",
     "status": "completed"
    },
    "tags": []
   },
   "source": [
    "\n",
    "<div style=\"background-color: green; padding: 20px;\">\n",
    "import libraries\n",
    "</div>"
   ]
  },
  {
   "cell_type": "code",
   "execution_count": 2,
   "id": "5b4a2650",
   "metadata": {
    "execution": {
     "iopub.execute_input": "2024-01-11T05:30:06.854375Z",
     "iopub.status.busy": "2024-01-11T05:30:06.853896Z",
     "iopub.status.idle": "2024-01-11T05:30:08.192139Z",
     "shell.execute_reply": "2024-01-11T05:30:08.190869Z"
    },
    "papermill": {
     "duration": 1.348208,
     "end_time": "2024-01-11T05:30:08.194620",
     "exception": false,
     "start_time": "2024-01-11T05:30:06.846412",
     "status": "completed"
    },
    "tags": []
   },
   "outputs": [],
   "source": [
    "import pandas as pd \n",
    "import matplotlib.pyplot as plt \n",
    "import numpy as np \n",
    "import seaborn as sns"
   ]
  },
  {
   "cell_type": "code",
   "execution_count": 3,
   "id": "20e18738",
   "metadata": {
    "execution": {
     "iopub.execute_input": "2024-01-11T05:30:08.209191Z",
     "iopub.status.busy": "2024-01-11T05:30:08.208821Z",
     "iopub.status.idle": "2024-01-11T05:30:08.726974Z",
     "shell.execute_reply": "2024-01-11T05:30:08.726032Z"
    },
    "papermill": {
     "duration": 0.528094,
     "end_time": "2024-01-11T05:30:08.729292",
     "exception": false,
     "start_time": "2024-01-11T05:30:08.201198",
     "status": "completed"
    },
    "tags": []
   },
   "outputs": [
    {
     "data": {
      "text/html": [
       "<div>\n",
       "<style scoped>\n",
       "    .dataframe tbody tr th:only-of-type {\n",
       "        vertical-align: middle;\n",
       "    }\n",
       "\n",
       "    .dataframe tbody tr th {\n",
       "        vertical-align: top;\n",
       "    }\n",
       "\n",
       "    .dataframe thead th {\n",
       "        text-align: right;\n",
       "    }\n",
       "</style>\n",
       "<table border=\"1\" class=\"dataframe\">\n",
       "  <thead>\n",
       "    <tr style=\"text-align: right;\">\n",
       "      <th></th>\n",
       "      <th>Candidate</th>\n",
       "      <th>Location</th>\n",
       "      <th>Profession</th>\n",
       "      <th>Study Duration (months)</th>\n",
       "      <th>IELTS Score (Overall)</th>\n",
       "      <th>Key Strategies</th>\n",
       "      <th>Education Level</th>\n",
       "      <th>Age</th>\n",
       "      <th>Target Country</th>\n",
       "      <th>English Proficiency (Preparation)</th>\n",
       "      <th>...</th>\n",
       "      <th>Preferred Learning Resources</th>\n",
       "      <th>Application Status</th>\n",
       "      <th>Job Offer Received</th>\n",
       "      <th>Additional Certifications</th>\n",
       "      <th>Volunteer Experience</th>\n",
       "      <th>Language Fluency</th>\n",
       "      <th>Internship Experience</th>\n",
       "      <th>Relevant Skills</th>\n",
       "      <th>Recommendations</th>\n",
       "      <th>Networking Efforts</th>\n",
       "    </tr>\n",
       "  </thead>\n",
       "  <tbody>\n",
       "    <tr>\n",
       "      <th>0</th>\n",
       "      <td>Aisha</td>\n",
       "      <td>Karachi</td>\n",
       "      <td>Grad Student</td>\n",
       "      <td>3</td>\n",
       "      <td>8.50</td>\n",
       "      <td>Practice, forums, tutoring</td>\n",
       "      <td>Master's</td>\n",
       "      <td>24</td>\n",
       "      <td>Canada</td>\n",
       "      <td>Advanced</td>\n",
       "      <td>...</td>\n",
       "      <td>Online courses, study guides</td>\n",
       "      <td>Under Process</td>\n",
       "      <td>No</td>\n",
       "      <td>TESOL</td>\n",
       "      <td>Yes</td>\n",
       "      <td>Urdu, English</td>\n",
       "      <td>Research Assistant</td>\n",
       "      <td>Data Analysis, Teaching</td>\n",
       "      <td>Strong</td>\n",
       "      <td>LinkedIn, Local Events</td>\n",
       "    </tr>\n",
       "    <tr>\n",
       "      <th>1</th>\n",
       "      <td>Ahmed</td>\n",
       "      <td>Lahore</td>\n",
       "      <td>IT Professional</td>\n",
       "      <td>4</td>\n",
       "      <td>7.50</td>\n",
       "      <td>Balanced schedule, time management, speaking p...</td>\n",
       "      <td>Bachelor's</td>\n",
       "      <td>29</td>\n",
       "      <td>Australia</td>\n",
       "      <td>Intermediate</td>\n",
       "      <td>...</td>\n",
       "      <td>Online forums, practice tests</td>\n",
       "      <td>Approved</td>\n",
       "      <td>Yes</td>\n",
       "      <td>PMP</td>\n",
       "      <td>No</td>\n",
       "      <td>Urdu, English</td>\n",
       "      <td>IT Consultant</td>\n",
       "      <td>Project Management, Programming</td>\n",
       "      <td>Positive</td>\n",
       "      <td>Online Communities</td>\n",
       "    </tr>\n",
       "    <tr>\n",
       "      <th>2</th>\n",
       "      <td>Fatima</td>\n",
       "      <td>Islamabad</td>\n",
       "      <td>School Teacher</td>\n",
       "      <td>2</td>\n",
       "      <td>9.00</td>\n",
       "      <td>Intensive course, online resources, mock inter...</td>\n",
       "      <td>Master's</td>\n",
       "      <td>32</td>\n",
       "      <td>New Zealand</td>\n",
       "      <td>Advanced</td>\n",
       "      <td>...</td>\n",
       "      <td>Study guides, language exchange</td>\n",
       "      <td>Under Process</td>\n",
       "      <td>No</td>\n",
       "      <td>CELTA</td>\n",
       "      <td>Yes</td>\n",
       "      <td>Urdu, English</td>\n",
       "      <td>Curriculum Developer</td>\n",
       "      <td>Lesson Planning, Educational Tech</td>\n",
       "      <td>Positive</td>\n",
       "      <td>Professional Groups</td>\n",
       "    </tr>\n",
       "    <tr>\n",
       "      <th>3</th>\n",
       "      <td>Ali</td>\n",
       "      <td>Peshawar</td>\n",
       "      <td>IT Professional</td>\n",
       "      <td>5</td>\n",
       "      <td>8.00</td>\n",
       "      <td>Focused study, workshops, peer feedback</td>\n",
       "      <td>Bachelor's</td>\n",
       "      <td>27</td>\n",
       "      <td>USA</td>\n",
       "      <td>Advanced</td>\n",
       "      <td>...</td>\n",
       "      <td>Mock exams, speaking clubs</td>\n",
       "      <td>Rejected</td>\n",
       "      <td>No</td>\n",
       "      <td>AWS Certified Solutions Architect</td>\n",
       "      <td>No</td>\n",
       "      <td>Urdu, English</td>\n",
       "      <td>Software Developer</td>\n",
       "      <td>Cloud Computing, Programming</td>\n",
       "      <td>Strong</td>\n",
       "      <td>Online Platforms</td>\n",
       "    </tr>\n",
       "    <tr>\n",
       "      <th>4</th>\n",
       "      <td>Saad</td>\n",
       "      <td>Lahore</td>\n",
       "      <td>Eng. Student</td>\n",
       "      <td>6</td>\n",
       "      <td>8.25</td>\n",
       "      <td>Consistent practice, private tutor, speaking c...</td>\n",
       "      <td>Bachelor's</td>\n",
       "      <td>22</td>\n",
       "      <td>UK</td>\n",
       "      <td>Advanced</td>\n",
       "      <td>...</td>\n",
       "      <td>Online tutorials, speaking practice</td>\n",
       "      <td>Under Process</td>\n",
       "      <td>No</td>\n",
       "      <td>IELTS Examiner</td>\n",
       "      <td>Yes</td>\n",
       "      <td>Urdu, English</td>\n",
       "      <td>Research Assistant</td>\n",
       "      <td>Lab Techniques, Data Analysis</td>\n",
       "      <td>Positive</td>\n",
       "      <td>University Events</td>\n",
       "    </tr>\n",
       "  </tbody>\n",
       "</table>\n",
       "<p>5 rows × 23 columns</p>\n",
       "</div>"
      ],
      "text/plain": [
       "  Candidate   Location       Profession  Study Duration (months)  \\\n",
       "0     Aisha    Karachi     Grad Student                        3   \n",
       "1     Ahmed     Lahore  IT Professional                        4   \n",
       "2    Fatima  Islamabad   School Teacher                        2   \n",
       "3       Ali   Peshawar  IT Professional                        5   \n",
       "4      Saad     Lahore     Eng. Student                        6   \n",
       "\n",
       "   IELTS Score (Overall)                                     Key Strategies  \\\n",
       "0                   8.50                         Practice, forums, tutoring   \n",
       "1                   7.50  Balanced schedule, time management, speaking p...   \n",
       "2                   9.00  Intensive course, online resources, mock inter...   \n",
       "3                   8.00            Focused study, workshops, peer feedback   \n",
       "4                   8.25  Consistent practice, private tutor, speaking c...   \n",
       "\n",
       "  Education Level  Age Target Country English Proficiency (Preparation)  ...  \\\n",
       "0        Master's   24         Canada                          Advanced  ...   \n",
       "1      Bachelor's   29      Australia                      Intermediate  ...   \n",
       "2        Master's   32    New Zealand                          Advanced  ...   \n",
       "3      Bachelor's   27            USA                          Advanced  ...   \n",
       "4      Bachelor's   22             UK                          Advanced  ...   \n",
       "\n",
       "          Preferred Learning Resources  Application Status Job Offer Received  \\\n",
       "0         Online courses, study guides       Under Process                 No   \n",
       "1        Online forums, practice tests            Approved                Yes   \n",
       "2      Study guides, language exchange       Under Process                 No   \n",
       "3           Mock exams, speaking clubs            Rejected                 No   \n",
       "4  Online tutorials, speaking practice       Under Process                 No   \n",
       "\n",
       "           Additional Certifications Volunteer Experience Language Fluency  \\\n",
       "0                              TESOL                  Yes    Urdu, English   \n",
       "1                                PMP                   No    Urdu, English   \n",
       "2                              CELTA                  Yes    Urdu, English   \n",
       "3  AWS Certified Solutions Architect                   No    Urdu, English   \n",
       "4                     IELTS Examiner                  Yes    Urdu, English   \n",
       "\n",
       "  Internship Experience                    Relevant Skills Recommendations  \\\n",
       "0    Research Assistant            Data Analysis, Teaching          Strong   \n",
       "1         IT Consultant    Project Management, Programming        Positive   \n",
       "2  Curriculum Developer  Lesson Planning, Educational Tech        Positive   \n",
       "3    Software Developer       Cloud Computing, Programming          Strong   \n",
       "4    Research Assistant      Lab Techniques, Data Analysis        Positive   \n",
       "\n",
       "       Networking Efforts  \n",
       "0  LinkedIn, Local Events  \n",
       "1      Online Communities  \n",
       "2     Professional Groups  \n",
       "3        Online Platforms  \n",
       "4       University Events  \n",
       "\n",
       "[5 rows x 23 columns]"
      ]
     },
     "execution_count": 3,
     "metadata": {},
     "output_type": "execute_result"
    }
   ],
   "source": [
    "df=pd.read_excel('/kaggle/input/ielts-success-stories-dataset/IELTS_Success_Stories_Dataset.xlsx')\n",
    "df.head()"
   ]
  },
  {
   "cell_type": "markdown",
   "id": "dde845f9",
   "metadata": {
    "papermill": {
     "duration": 0.006235,
     "end_time": "2024-01-11T05:30:08.742291",
     "exception": false,
     "start_time": "2024-01-11T05:30:08.736056",
     "status": "completed"
    },
    "tags": []
   },
   "source": [
    "<div style=\"background-color: green; padding: 20px;\">\n",
    "Data cleaning </div>"
   ]
  },
  {
   "cell_type": "code",
   "execution_count": 4,
   "id": "9a7d4ddb",
   "metadata": {
    "execution": {
     "iopub.execute_input": "2024-01-11T05:30:08.757049Z",
     "iopub.status.busy": "2024-01-11T05:30:08.756508Z",
     "iopub.status.idle": "2024-01-11T05:30:08.779585Z",
     "shell.execute_reply": "2024-01-11T05:30:08.777848Z"
    },
    "papermill": {
     "duration": 0.033221,
     "end_time": "2024-01-11T05:30:08.782134",
     "exception": false,
     "start_time": "2024-01-11T05:30:08.748913",
     "status": "completed"
    },
    "tags": []
   },
   "outputs": [
    {
     "data": {
      "text/html": [
       "<div>\n",
       "<style scoped>\n",
       "    .dataframe tbody tr th:only-of-type {\n",
       "        vertical-align: middle;\n",
       "    }\n",
       "\n",
       "    .dataframe tbody tr th {\n",
       "        vertical-align: top;\n",
       "    }\n",
       "\n",
       "    .dataframe thead th {\n",
       "        text-align: right;\n",
       "    }\n",
       "</style>\n",
       "<table border=\"1\" class=\"dataframe\">\n",
       "  <thead>\n",
       "    <tr style=\"text-align: right;\">\n",
       "      <th></th>\n",
       "      <th>Candidate</th>\n",
       "      <th>Location</th>\n",
       "      <th>Profession</th>\n",
       "      <th>Study_Duration_(months)</th>\n",
       "      <th>IELTS_Score_(Overall)</th>\n",
       "      <th>Key_Strategies</th>\n",
       "      <th>Education_Level</th>\n",
       "      <th>Age</th>\n",
       "      <th>Target_Country</th>\n",
       "      <th>English_Proficiency_(Preparation)</th>\n",
       "      <th>...</th>\n",
       "      <th>Preferred_Learning_Resources</th>\n",
       "      <th>Application_Status</th>\n",
       "      <th>Job_Offer_Received</th>\n",
       "      <th>Additional_Certifications</th>\n",
       "      <th>Volunteer_Experience</th>\n",
       "      <th>Language_Fluency</th>\n",
       "      <th>Internship_Experience</th>\n",
       "      <th>Relevant_Skills</th>\n",
       "      <th>Recommendations</th>\n",
       "      <th>Networking_Efforts</th>\n",
       "    </tr>\n",
       "  </thead>\n",
       "  <tbody>\n",
       "    <tr>\n",
       "      <th>0</th>\n",
       "      <td>Aisha</td>\n",
       "      <td>Karachi</td>\n",
       "      <td>Grad Student</td>\n",
       "      <td>3</td>\n",
       "      <td>8.50</td>\n",
       "      <td>Practice, forums, tutoring</td>\n",
       "      <td>Master's</td>\n",
       "      <td>24</td>\n",
       "      <td>Canada</td>\n",
       "      <td>Advanced</td>\n",
       "      <td>...</td>\n",
       "      <td>Online courses, study guides</td>\n",
       "      <td>Under Process</td>\n",
       "      <td>No</td>\n",
       "      <td>TESOL</td>\n",
       "      <td>Yes</td>\n",
       "      <td>Urdu, English</td>\n",
       "      <td>Research Assistant</td>\n",
       "      <td>Data Analysis, Teaching</td>\n",
       "      <td>Strong</td>\n",
       "      <td>LinkedIn, Local Events</td>\n",
       "    </tr>\n",
       "    <tr>\n",
       "      <th>1</th>\n",
       "      <td>Ahmed</td>\n",
       "      <td>Lahore</td>\n",
       "      <td>IT Professional</td>\n",
       "      <td>4</td>\n",
       "      <td>7.50</td>\n",
       "      <td>Balanced schedule, time management, speaking p...</td>\n",
       "      <td>Bachelor's</td>\n",
       "      <td>29</td>\n",
       "      <td>Australia</td>\n",
       "      <td>Intermediate</td>\n",
       "      <td>...</td>\n",
       "      <td>Online forums, practice tests</td>\n",
       "      <td>Approved</td>\n",
       "      <td>Yes</td>\n",
       "      <td>PMP</td>\n",
       "      <td>No</td>\n",
       "      <td>Urdu, English</td>\n",
       "      <td>IT Consultant</td>\n",
       "      <td>Project Management, Programming</td>\n",
       "      <td>Positive</td>\n",
       "      <td>Online Communities</td>\n",
       "    </tr>\n",
       "    <tr>\n",
       "      <th>2</th>\n",
       "      <td>Fatima</td>\n",
       "      <td>Islamabad</td>\n",
       "      <td>School Teacher</td>\n",
       "      <td>2</td>\n",
       "      <td>9.00</td>\n",
       "      <td>Intensive course, online resources, mock inter...</td>\n",
       "      <td>Master's</td>\n",
       "      <td>32</td>\n",
       "      <td>New Zealand</td>\n",
       "      <td>Advanced</td>\n",
       "      <td>...</td>\n",
       "      <td>Study guides, language exchange</td>\n",
       "      <td>Under Process</td>\n",
       "      <td>No</td>\n",
       "      <td>CELTA</td>\n",
       "      <td>Yes</td>\n",
       "      <td>Urdu, English</td>\n",
       "      <td>Curriculum Developer</td>\n",
       "      <td>Lesson Planning, Educational Tech</td>\n",
       "      <td>Positive</td>\n",
       "      <td>Professional Groups</td>\n",
       "    </tr>\n",
       "    <tr>\n",
       "      <th>3</th>\n",
       "      <td>Ali</td>\n",
       "      <td>Peshawar</td>\n",
       "      <td>IT Professional</td>\n",
       "      <td>5</td>\n",
       "      <td>8.00</td>\n",
       "      <td>Focused study, workshops, peer feedback</td>\n",
       "      <td>Bachelor's</td>\n",
       "      <td>27</td>\n",
       "      <td>USA</td>\n",
       "      <td>Advanced</td>\n",
       "      <td>...</td>\n",
       "      <td>Mock exams, speaking clubs</td>\n",
       "      <td>Rejected</td>\n",
       "      <td>No</td>\n",
       "      <td>AWS Certified Solutions Architect</td>\n",
       "      <td>No</td>\n",
       "      <td>Urdu, English</td>\n",
       "      <td>Software Developer</td>\n",
       "      <td>Cloud Computing, Programming</td>\n",
       "      <td>Strong</td>\n",
       "      <td>Online Platforms</td>\n",
       "    </tr>\n",
       "    <tr>\n",
       "      <th>4</th>\n",
       "      <td>Saad</td>\n",
       "      <td>Lahore</td>\n",
       "      <td>Eng. Student</td>\n",
       "      <td>6</td>\n",
       "      <td>8.25</td>\n",
       "      <td>Consistent practice, private tutor, speaking c...</td>\n",
       "      <td>Bachelor's</td>\n",
       "      <td>22</td>\n",
       "      <td>UK</td>\n",
       "      <td>Advanced</td>\n",
       "      <td>...</td>\n",
       "      <td>Online tutorials, speaking practice</td>\n",
       "      <td>Under Process</td>\n",
       "      <td>No</td>\n",
       "      <td>IELTS Examiner</td>\n",
       "      <td>Yes</td>\n",
       "      <td>Urdu, English</td>\n",
       "      <td>Research Assistant</td>\n",
       "      <td>Lab Techniques, Data Analysis</td>\n",
       "      <td>Positive</td>\n",
       "      <td>University Events</td>\n",
       "    </tr>\n",
       "  </tbody>\n",
       "</table>\n",
       "<p>5 rows × 23 columns</p>\n",
       "</div>"
      ],
      "text/plain": [
       "  Candidate   Location       Profession  Study_Duration_(months)  \\\n",
       "0     Aisha    Karachi     Grad Student                        3   \n",
       "1     Ahmed     Lahore  IT Professional                        4   \n",
       "2    Fatima  Islamabad   School Teacher                        2   \n",
       "3       Ali   Peshawar  IT Professional                        5   \n",
       "4      Saad     Lahore     Eng. Student                        6   \n",
       "\n",
       "   IELTS_Score_(Overall)                                     Key_Strategies  \\\n",
       "0                   8.50                         Practice, forums, tutoring   \n",
       "1                   7.50  Balanced schedule, time management, speaking p...   \n",
       "2                   9.00  Intensive course, online resources, mock inter...   \n",
       "3                   8.00            Focused study, workshops, peer feedback   \n",
       "4                   8.25  Consistent practice, private tutor, speaking c...   \n",
       "\n",
       "  Education_Level  Age Target_Country English_Proficiency_(Preparation)  ...  \\\n",
       "0        Master's   24         Canada                          Advanced  ...   \n",
       "1      Bachelor's   29      Australia                      Intermediate  ...   \n",
       "2        Master's   32    New Zealand                          Advanced  ...   \n",
       "3      Bachelor's   27            USA                          Advanced  ...   \n",
       "4      Bachelor's   22             UK                          Advanced  ...   \n",
       "\n",
       "          Preferred_Learning_Resources  Application_Status Job_Offer_Received  \\\n",
       "0         Online courses, study guides       Under Process                 No   \n",
       "1        Online forums, practice tests            Approved                Yes   \n",
       "2      Study guides, language exchange       Under Process                 No   \n",
       "3           Mock exams, speaking clubs            Rejected                 No   \n",
       "4  Online tutorials, speaking practice       Under Process                 No   \n",
       "\n",
       "           Additional_Certifications Volunteer_Experience Language_Fluency  \\\n",
       "0                              TESOL                  Yes    Urdu, English   \n",
       "1                                PMP                   No    Urdu, English   \n",
       "2                              CELTA                  Yes    Urdu, English   \n",
       "3  AWS Certified Solutions Architect                   No    Urdu, English   \n",
       "4                     IELTS Examiner                  Yes    Urdu, English   \n",
       "\n",
       "  Internship_Experience                    Relevant_Skills Recommendations  \\\n",
       "0    Research Assistant            Data Analysis, Teaching          Strong   \n",
       "1         IT Consultant    Project Management, Programming        Positive   \n",
       "2  Curriculum Developer  Lesson Planning, Educational Tech        Positive   \n",
       "3    Software Developer       Cloud Computing, Programming          Strong   \n",
       "4    Research Assistant      Lab Techniques, Data Analysis        Positive   \n",
       "\n",
       "       Networking_Efforts  \n",
       "0  LinkedIn, Local Events  \n",
       "1      Online Communities  \n",
       "2     Professional Groups  \n",
       "3        Online Platforms  \n",
       "4       University Events  \n",
       "\n",
       "[5 rows x 23 columns]"
      ]
     },
     "execution_count": 4,
     "metadata": {},
     "output_type": "execute_result"
    }
   ],
   "source": [
    "\n",
    "df.columns=df.columns.str.replace(' ',\"_\") # remove the white space with \"_\"\n",
    "df.head()"
   ]
  },
  {
   "cell_type": "code",
   "execution_count": 5,
   "id": "8e7a4efc",
   "metadata": {
    "execution": {
     "iopub.execute_input": "2024-01-11T05:30:08.798024Z",
     "iopub.status.busy": "2024-01-11T05:30:08.797538Z",
     "iopub.status.idle": "2024-01-11T05:30:08.823668Z",
     "shell.execute_reply": "2024-01-11T05:30:08.822269Z"
    },
    "papermill": {
     "duration": 0.036878,
     "end_time": "2024-01-11T05:30:08.826124",
     "exception": false,
     "start_time": "2024-01-11T05:30:08.789246",
     "status": "completed"
    },
    "tags": []
   },
   "outputs": [
    {
     "data": {
      "text/html": [
       "<div>\n",
       "<style scoped>\n",
       "    .dataframe tbody tr th:only-of-type {\n",
       "        vertical-align: middle;\n",
       "    }\n",
       "\n",
       "    .dataframe tbody tr th {\n",
       "        vertical-align: top;\n",
       "    }\n",
       "\n",
       "    .dataframe thead th {\n",
       "        text-align: right;\n",
       "    }\n",
       "</style>\n",
       "<table border=\"1\" class=\"dataframe\">\n",
       "  <thead>\n",
       "    <tr style=\"text-align: right;\">\n",
       "      <th></th>\n",
       "      <th>Candidate</th>\n",
       "      <th>Location</th>\n",
       "      <th>Profession</th>\n",
       "      <th>Study_Duration</th>\n",
       "      <th>IELTS_Score</th>\n",
       "      <th>Key_Strategies</th>\n",
       "      <th>Education_Level</th>\n",
       "      <th>Age</th>\n",
       "      <th>Target_Country</th>\n",
       "      <th>English_Proficiency</th>\n",
       "      <th>...</th>\n",
       "      <th>Preferred_Learning_Resources</th>\n",
       "      <th>Application_Status</th>\n",
       "      <th>Job_Offer_Received</th>\n",
       "      <th>Additional_Certifications</th>\n",
       "      <th>Volunteer_Experience</th>\n",
       "      <th>Language_Fluency</th>\n",
       "      <th>Internship_Experience</th>\n",
       "      <th>Relevant_Skills</th>\n",
       "      <th>Recommendations</th>\n",
       "      <th>Networking_Efforts</th>\n",
       "    </tr>\n",
       "  </thead>\n",
       "  <tbody>\n",
       "    <tr>\n",
       "      <th>0</th>\n",
       "      <td>Aisha</td>\n",
       "      <td>Karachi</td>\n",
       "      <td>Grad Student</td>\n",
       "      <td>3</td>\n",
       "      <td>8.50</td>\n",
       "      <td>Practice, forums, tutoring</td>\n",
       "      <td>Master's</td>\n",
       "      <td>24</td>\n",
       "      <td>Canada</td>\n",
       "      <td>Advanced</td>\n",
       "      <td>...</td>\n",
       "      <td>Online courses, study guides</td>\n",
       "      <td>Under Process</td>\n",
       "      <td>No</td>\n",
       "      <td>TESOL</td>\n",
       "      <td>Yes</td>\n",
       "      <td>Urdu, English</td>\n",
       "      <td>Research Assistant</td>\n",
       "      <td>Data Analysis, Teaching</td>\n",
       "      <td>Strong</td>\n",
       "      <td>LinkedIn, Local Events</td>\n",
       "    </tr>\n",
       "    <tr>\n",
       "      <th>1</th>\n",
       "      <td>Ahmed</td>\n",
       "      <td>Lahore</td>\n",
       "      <td>IT Professional</td>\n",
       "      <td>4</td>\n",
       "      <td>7.50</td>\n",
       "      <td>Balanced schedule, time management, speaking p...</td>\n",
       "      <td>Bachelor's</td>\n",
       "      <td>29</td>\n",
       "      <td>Australia</td>\n",
       "      <td>Intermediate</td>\n",
       "      <td>...</td>\n",
       "      <td>Online forums, practice tests</td>\n",
       "      <td>Approved</td>\n",
       "      <td>Yes</td>\n",
       "      <td>PMP</td>\n",
       "      <td>No</td>\n",
       "      <td>Urdu, English</td>\n",
       "      <td>IT Consultant</td>\n",
       "      <td>Project Management, Programming</td>\n",
       "      <td>Positive</td>\n",
       "      <td>Online Communities</td>\n",
       "    </tr>\n",
       "    <tr>\n",
       "      <th>2</th>\n",
       "      <td>Fatima</td>\n",
       "      <td>Islamabad</td>\n",
       "      <td>School Teacher</td>\n",
       "      <td>2</td>\n",
       "      <td>9.00</td>\n",
       "      <td>Intensive course, online resources, mock inter...</td>\n",
       "      <td>Master's</td>\n",
       "      <td>32</td>\n",
       "      <td>New Zealand</td>\n",
       "      <td>Advanced</td>\n",
       "      <td>...</td>\n",
       "      <td>Study guides, language exchange</td>\n",
       "      <td>Under Process</td>\n",
       "      <td>No</td>\n",
       "      <td>CELTA</td>\n",
       "      <td>Yes</td>\n",
       "      <td>Urdu, English</td>\n",
       "      <td>Curriculum Developer</td>\n",
       "      <td>Lesson Planning, Educational Tech</td>\n",
       "      <td>Positive</td>\n",
       "      <td>Professional Groups</td>\n",
       "    </tr>\n",
       "    <tr>\n",
       "      <th>3</th>\n",
       "      <td>Ali</td>\n",
       "      <td>Peshawar</td>\n",
       "      <td>IT Professional</td>\n",
       "      <td>5</td>\n",
       "      <td>8.00</td>\n",
       "      <td>Focused study, workshops, peer feedback</td>\n",
       "      <td>Bachelor's</td>\n",
       "      <td>27</td>\n",
       "      <td>USA</td>\n",
       "      <td>Advanced</td>\n",
       "      <td>...</td>\n",
       "      <td>Mock exams, speaking clubs</td>\n",
       "      <td>Rejected</td>\n",
       "      <td>No</td>\n",
       "      <td>AWS Certified Solutions Architect</td>\n",
       "      <td>No</td>\n",
       "      <td>Urdu, English</td>\n",
       "      <td>Software Developer</td>\n",
       "      <td>Cloud Computing, Programming</td>\n",
       "      <td>Strong</td>\n",
       "      <td>Online Platforms</td>\n",
       "    </tr>\n",
       "    <tr>\n",
       "      <th>4</th>\n",
       "      <td>Saad</td>\n",
       "      <td>Lahore</td>\n",
       "      <td>Eng. Student</td>\n",
       "      <td>6</td>\n",
       "      <td>8.25</td>\n",
       "      <td>Consistent practice, private tutor, speaking c...</td>\n",
       "      <td>Bachelor's</td>\n",
       "      <td>22</td>\n",
       "      <td>UK</td>\n",
       "      <td>Advanced</td>\n",
       "      <td>...</td>\n",
       "      <td>Online tutorials, speaking practice</td>\n",
       "      <td>Under Process</td>\n",
       "      <td>No</td>\n",
       "      <td>IELTS Examiner</td>\n",
       "      <td>Yes</td>\n",
       "      <td>Urdu, English</td>\n",
       "      <td>Research Assistant</td>\n",
       "      <td>Lab Techniques, Data Analysis</td>\n",
       "      <td>Positive</td>\n",
       "      <td>University Events</td>\n",
       "    </tr>\n",
       "  </tbody>\n",
       "</table>\n",
       "<p>5 rows × 23 columns</p>\n",
       "</div>"
      ],
      "text/plain": [
       "  Candidate   Location       Profession  Study_Duration  IELTS_Score  \\\n",
       "0     Aisha    Karachi     Grad Student               3         8.50   \n",
       "1     Ahmed     Lahore  IT Professional               4         7.50   \n",
       "2    Fatima  Islamabad   School Teacher               2         9.00   \n",
       "3       Ali   Peshawar  IT Professional               5         8.00   \n",
       "4      Saad     Lahore     Eng. Student               6         8.25   \n",
       "\n",
       "                                      Key_Strategies Education_Level  Age  \\\n",
       "0                         Practice, forums, tutoring        Master's   24   \n",
       "1  Balanced schedule, time management, speaking p...      Bachelor's   29   \n",
       "2  Intensive course, online resources, mock inter...        Master's   32   \n",
       "3            Focused study, workshops, peer feedback      Bachelor's   27   \n",
       "4  Consistent practice, private tutor, speaking c...      Bachelor's   22   \n",
       "\n",
       "  Target_Country English_Proficiency  ...  \\\n",
       "0         Canada            Advanced  ...   \n",
       "1      Australia        Intermediate  ...   \n",
       "2    New Zealand            Advanced  ...   \n",
       "3            USA            Advanced  ...   \n",
       "4             UK            Advanced  ...   \n",
       "\n",
       "          Preferred_Learning_Resources  Application_Status Job_Offer_Received  \\\n",
       "0         Online courses, study guides       Under Process                 No   \n",
       "1        Online forums, practice tests            Approved                Yes   \n",
       "2      Study guides, language exchange       Under Process                 No   \n",
       "3           Mock exams, speaking clubs            Rejected                 No   \n",
       "4  Online tutorials, speaking practice       Under Process                 No   \n",
       "\n",
       "           Additional_Certifications Volunteer_Experience Language_Fluency  \\\n",
       "0                              TESOL                  Yes    Urdu, English   \n",
       "1                                PMP                   No    Urdu, English   \n",
       "2                              CELTA                  Yes    Urdu, English   \n",
       "3  AWS Certified Solutions Architect                   No    Urdu, English   \n",
       "4                     IELTS Examiner                  Yes    Urdu, English   \n",
       "\n",
       "  Internship_Experience                    Relevant_Skills Recommendations  \\\n",
       "0    Research Assistant            Data Analysis, Teaching          Strong   \n",
       "1         IT Consultant    Project Management, Programming        Positive   \n",
       "2  Curriculum Developer  Lesson Planning, Educational Tech        Positive   \n",
       "3    Software Developer       Cloud Computing, Programming          Strong   \n",
       "4    Research Assistant      Lab Techniques, Data Analysis        Positive   \n",
       "\n",
       "       Networking_Efforts  \n",
       "0  LinkedIn, Local Events  \n",
       "1      Online Communities  \n",
       "2     Professional Groups  \n",
       "3        Online Platforms  \n",
       "4       University Events  \n",
       "\n",
       "[5 rows x 23 columns]"
      ]
     },
     "execution_count": 5,
     "metadata": {},
     "output_type": "execute_result"
    }
   ],
   "source": [
    "# rename columns \n",
    "df.rename(columns={'Study_Duration_(months)': 'Study_Duration','IELTS_Score_(Overall)':'IELTS_Score','English_Proficiency_(Preparation)':'English_Proficiency'}, inplace=True)\n",
    "df.head()"
   ]
  },
  {
   "cell_type": "code",
   "execution_count": 6,
   "id": "e49bc283",
   "metadata": {
    "execution": {
     "iopub.execute_input": "2024-01-11T05:30:08.842523Z",
     "iopub.status.busy": "2024-01-11T05:30:08.841961Z",
     "iopub.status.idle": "2024-01-11T05:30:08.849938Z",
     "shell.execute_reply": "2024-01-11T05:30:08.848826Z"
    },
    "papermill": {
     "duration": 0.018334,
     "end_time": "2024-01-11T05:30:08.851992",
     "exception": false,
     "start_time": "2024-01-11T05:30:08.833658",
     "status": "completed"
    },
    "tags": []
   },
   "outputs": [
    {
     "data": {
      "text/plain": [
       "Candidate                       0\n",
       "Location                        0\n",
       "Profession                      0\n",
       "Study_Duration                  0\n",
       "IELTS_Score                     0\n",
       "Key_Strategies                  0\n",
       "Education_Level                 0\n",
       "Age                             0\n",
       "Target_Country                  0\n",
       "English_Proficiency             0\n",
       "Practice_Hours_per_Week         0\n",
       "Mock_Tests_Taken                0\n",
       "Achieved_Desired_Score          0\n",
       "Preferred_Learning_Resources    0\n",
       "Application_Status              0\n",
       "Job_Offer_Received              0\n",
       "Additional_Certifications       0\n",
       "Volunteer_Experience            0\n",
       "Language_Fluency                0\n",
       "Internship_Experience           0\n",
       "Relevant_Skills                 0\n",
       "Recommendations                 0\n",
       "Networking_Efforts              0\n",
       "dtype: int64"
      ]
     },
     "execution_count": 6,
     "metadata": {},
     "output_type": "execute_result"
    }
   ],
   "source": [
    "df.isnull().sum()"
   ]
  },
  {
   "cell_type": "code",
   "execution_count": 7,
   "id": "9ea7b489",
   "metadata": {
    "execution": {
     "iopub.execute_input": "2024-01-11T05:30:08.868027Z",
     "iopub.status.busy": "2024-01-11T05:30:08.867670Z",
     "iopub.status.idle": "2024-01-11T05:30:08.884135Z",
     "shell.execute_reply": "2024-01-11T05:30:08.882806Z"
    },
    "papermill": {
     "duration": 0.027836,
     "end_time": "2024-01-11T05:30:08.887017",
     "exception": false,
     "start_time": "2024-01-11T05:30:08.859181",
     "status": "completed"
    },
    "tags": []
   },
   "outputs": [
    {
     "data": {
      "text/plain": [
       "11"
      ]
     },
     "execution_count": 7,
     "metadata": {},
     "output_type": "execute_result"
    }
   ],
   "source": [
    "df.duplicated().sum()"
   ]
  },
  {
   "cell_type": "code",
   "execution_count": 8,
   "id": "a542e057",
   "metadata": {
    "execution": {
     "iopub.execute_input": "2024-01-11T05:30:08.904246Z",
     "iopub.status.busy": "2024-01-11T05:30:08.903888Z",
     "iopub.status.idle": "2024-01-11T05:30:08.912823Z",
     "shell.execute_reply": "2024-01-11T05:30:08.911288Z"
    },
    "papermill": {
     "duration": 0.02056,
     "end_time": "2024-01-11T05:30:08.915209",
     "exception": false,
     "start_time": "2024-01-11T05:30:08.894649",
     "status": "completed"
    },
    "tags": []
   },
   "outputs": [],
   "source": [
    "df.drop_duplicates(inplace=True)"
   ]
  },
  {
   "cell_type": "markdown",
   "id": "13110f89",
   "metadata": {
    "papermill": {
     "duration": 0.006834,
     "end_time": "2024-01-11T05:30:08.929542",
     "exception": false,
     "start_time": "2024-01-11T05:30:08.922708",
     "status": "completed"
    },
    "tags": []
   },
   "source": [
    "<div style=\"background-color: green; padding: 20px;\">\n",
    "check the destribution  of numerical column in the data set\n",
    "</div>"
   ]
  },
  {
   "cell_type": "markdown",
   "id": "01a3c820",
   "metadata": {
    "papermill": {
     "duration": 0.006719,
     "end_time": "2024-01-11T05:30:08.943488",
     "exception": false,
     "start_time": "2024-01-11T05:30:08.936769",
     "status": "completed"
    },
    "tags": []
   },
   "source": []
  },
  {
   "cell_type": "code",
   "execution_count": 9,
   "id": "12ddd970",
   "metadata": {
    "execution": {
     "iopub.execute_input": "2024-01-11T05:30:08.960080Z",
     "iopub.status.busy": "2024-01-11T05:30:08.959735Z",
     "iopub.status.idle": "2024-01-11T05:30:09.983765Z",
     "shell.execute_reply": "2024-01-11T05:30:09.982737Z"
    },
    "papermill": {
     "duration": 1.035626,
     "end_time": "2024-01-11T05:30:09.986436",
     "exception": false,
     "start_time": "2024-01-11T05:30:08.950810",
     "status": "completed"
    },
    "tags": []
   },
   "outputs": [
    {
     "data": {
      "text/plain": [
       "Text(0.5, 0.98, 'Histograms of Column Distributions')"
      ]
     },
     "execution_count": 9,
     "metadata": {},
     "output_type": "execute_result"
    },
    {
     "data": {
      "image/png": "[encoded data removed]",
      "text/plain": [
       "<Figure size 1000x1000 with 6 Axes>"
      ]
     },
     "metadata": {},
     "output_type": "display_data"
    }
   ],
   "source": [
    "df.hist(figsize=(10, 10))  \n",
    "plt.xlabel(\"Value\")\n",
    "plt.ylabel(\"Frequency\")\n",
    "plt.suptitle(\"Histograms of Column Distributions\")\n"
   ]
  },
  {
   "cell_type": "markdown",
   "id": "43c46c22",
   "metadata": {
    "papermill": {
     "duration": 0.007835,
     "end_time": "2024-01-11T05:30:10.002646",
     "exception": false,
     "start_time": "2024-01-11T05:30:09.994811",
     "status": "completed"
    },
    "tags": []
   },
   "source": []
  },
  {
   "cell_type": "markdown",
   "id": "93eb852e",
   "metadata": {
    "execution": {
     "iopub.execute_input": "2024-01-11T04:17:34.148449Z",
     "iopub.status.busy": "2024-01-11T04:17:34.148020Z",
     "iopub.status.idle": "2024-01-11T04:17:34.157894Z",
     "shell.execute_reply": "2024-01-11T04:17:34.156081Z",
     "shell.execute_reply.started": "2024-01-11T04:17:34.148399Z"
    },
    "papermill": {
     "duration": 0.007805,
     "end_time": "2024-01-11T05:30:10.018677",
     "exception": false,
     "start_time": "2024-01-11T05:30:10.010872",
     "status": "completed"
    },
    "tags": []
   },
   "source": [
    "\n",
    "<div style=\"background-color: green; padding: 20px;\">\n",
    "relation between study duration  and score </div>"
   ]
  },
  {
   "cell_type": "code",
   "execution_count": 10,
   "id": "e0b8fb81",
   "metadata": {
    "execution": {
     "iopub.execute_input": "2024-01-11T05:30:10.037342Z",
     "iopub.status.busy": "2024-01-11T05:30:10.036973Z",
     "iopub.status.idle": "2024-01-11T05:30:10.289965Z",
     "shell.execute_reply": "2024-01-11T05:30:10.288969Z"
    },
    "papermill": {
     "duration": 0.265026,
     "end_time": "2024-01-11T05:30:10.291857",
     "exception": false,
     "start_time": "2024-01-11T05:30:10.026831",
     "status": "completed"
    },
    "tags": []
   },
   "outputs": [
    {
     "data": {
      "text/plain": [
       "<Axes: xlabel='Study_Duration', ylabel='IELTS_Score'>"
      ]
     },
     "execution_count": 10,
     "metadata": {},
     "output_type": "execute_result"
    },
    {
     "data": {
      "image/png": "[encoded data removed]",
      "text/plain": [
       "<Figure size 640x480 with 1 Axes>"
      ]
     },
     "metadata": {},
     "output_type": "display_data"
    }
   ],
   "source": [
    "\n",
    "sns.scatterplot(x=df['Study_Duration'], y=df['IELTS_Score'])"
   ]
  },
  {
   "cell_type": "markdown",
   "id": "8e0c8c51",
   "metadata": {
    "papermill": {
     "duration": 0.008532,
     "end_time": "2024-01-11T05:30:10.308658",
     "exception": false,
     "start_time": "2024-01-11T05:30:10.300126",
     "status": "completed"
    },
    "tags": []
   },
   "source": [
    "\n",
    "<div style=\"background-color: green; padding: 20px;\">\n",
    "relation between age and score </div>"
   ]
  },
  {
   "cell_type": "code",
   "execution_count": 11,
   "id": "879fa635",
   "metadata": {
    "execution": {
     "iopub.execute_input": "2024-01-11T05:30:10.327748Z",
     "iopub.status.busy": "2024-01-11T05:30:10.326534Z",
     "iopub.status.idle": "2024-01-11T05:30:10.624308Z",
     "shell.execute_reply": "2024-01-11T05:30:10.623001Z"
    },
    "papermill": {
     "duration": 0.309352,
     "end_time": "2024-01-11T05:30:10.626502",
     "exception": false,
     "start_time": "2024-01-11T05:30:10.317150",
     "status": "completed"
    },
    "tags": []
   },
   "outputs": [
    {
     "data": {
      "text/plain": [
       "<Axes: xlabel='Age', ylabel='IELTS_Score'>"
      ]
     },
     "execution_count": 11,
     "metadata": {},
     "output_type": "execute_result"
    },
    {
     "data": {
      "image/png": "[encoded data removed]",
      "text/plain": [
       "<Figure size 640x480 with 1 Axes>"
      ]
     },
     "metadata": {},
     "output_type": "display_data"
    }
   ],
   "source": [
    "sns.lineplot(x=df[\"Age\"], y=df['IELTS_Score'])"
   ]
  },
  {
   "cell_type": "markdown",
   "id": "ac7a611f",
   "metadata": {
    "papermill": {
     "duration": 0.009195,
     "end_time": "2024-01-11T05:30:10.644860",
     "exception": false,
     "start_time": "2024-01-11T05:30:10.635665",
     "status": "completed"
    },
    "tags": []
   },
   "source": [
    "\n",
    "\n",
    "<div style=\"background-color: green; padding: 20px;\">\n",
    "which Profession has the highest score </div>"
   ]
  },
  {
   "cell_type": "code",
   "execution_count": 12,
   "id": "141d2460",
   "metadata": {
    "execution": {
     "iopub.execute_input": "2024-01-11T05:30:10.665418Z",
     "iopub.status.busy": "2024-01-11T05:30:10.664899Z",
     "iopub.status.idle": "2024-01-11T05:30:10.979871Z",
     "shell.execute_reply": "2024-01-11T05:30:10.978093Z"
    },
    "papermill": {
     "duration": 0.328177,
     "end_time": "2024-01-11T05:30:10.982075",
     "exception": false,
     "start_time": "2024-01-11T05:30:10.653898",
     "status": "completed"
    },
    "tags": []
   },
   "outputs": [
    {
     "data": {
      "text/plain": [
       "Text(0, 0.5, 'score')"
      ]
     },
     "execution_count": 12,
     "metadata": {},
     "output_type": "execute_result"
    },
    {
     "data": {
      "image/png": "[encoded data removed]",
      "text/plain": [
       "<Figure size 640x480 with 1 Axes>"
      ]
     },
     "metadata": {},
     "output_type": "display_data"
    }
   ],
   "source": [
    "prof_score=df.groupby('Profession')['IELTS_Score'].mean()\n",
    "sns.barplot(x=prof_score.index,y=prof_score.values)\n",
    "plt.xticks(rotation =90);\n",
    "plt.title ('Profession VS Score')\n",
    "plt.ylabel('score')"
   ]
  },
  {
   "cell_type": "markdown",
   "id": "32dcaae7",
   "metadata": {
    "papermill": {
     "duration": 0.010111,
     "end_time": "2024-01-11T05:30:11.003589",
     "exception": false,
     "start_time": "2024-01-11T05:30:10.993478",
     "status": "completed"
    },
    "tags": []
   },
   "source": [
    "\n",
    "<div style=\"background-color: green; padding: 20px;\">\n",
    "all Candiate scores </div>"
   ]
  },
  {
   "cell_type": "code",
   "execution_count": 13,
   "id": "51c47af2",
   "metadata": {
    "execution": {
     "iopub.execute_input": "2024-01-11T05:30:11.025291Z",
     "iopub.status.busy": "2024-01-11T05:30:11.024953Z",
     "iopub.status.idle": "2024-01-11T05:30:11.321739Z",
     "shell.execute_reply": "2024-01-11T05:30:11.320211Z"
    },
    "papermill": {
     "duration": 0.310013,
     "end_time": "2024-01-11T05:30:11.324037",
     "exception": false,
     "start_time": "2024-01-11T05:30:11.014024",
     "status": "completed"
    },
    "tags": []
   },
   "outputs": [
    {
     "data": {
      "text/plain": [
       "Text(0, 0.5, 'score')"
      ]
     },
     "execution_count": 13,
     "metadata": {},
     "output_type": "execute_result"
    },
    {
     "data": {
      "image/png": "[encoded data removed]",
      "text/plain": [
       "<Figure size 640x480 with 1 Axes>"
      ]
     },
     "metadata": {},
     "output_type": "display_data"
    }
   ],
   "source": [
    "can_score=df.groupby('Candidate')['IELTS_Score'].max()\n",
    "sns.barplot(x=can_score.sort_values(ascending=False).index,y=can_score.sort_values(ascending=False).values)\n",
    "plt.xticks(rotation =90);\n",
    "plt.title ('Candidate VS Score')\n",
    "plt.ylabel('score')"
   ]
  },
  {
   "cell_type": "markdown",
   "id": "570458e1",
   "metadata": {
    "papermill": {
     "duration": 0.009909,
     "end_time": "2024-01-11T05:30:11.343868",
     "exception": false,
     "start_time": "2024-01-11T05:30:11.333959",
     "status": "completed"
    },
    "tags": []
   },
   "source": [
    "<div style=\"background-color: green; padding: 20px;\">\n",
    "Education level between stundents  </div>"
   ]
  },
  {
   "cell_type": "code",
   "execution_count": 14,
   "id": "25932ffe",
   "metadata": {
    "execution": {
     "iopub.execute_input": "2024-01-11T05:30:11.364705Z",
     "iopub.status.busy": "2024-01-11T05:30:11.364360Z",
     "iopub.status.idle": "2024-01-11T05:30:11.465529Z",
     "shell.execute_reply": "2024-01-11T05:30:11.464634Z"
    },
    "papermill": {
     "duration": 0.113927,
     "end_time": "2024-01-11T05:30:11.467460",
     "exception": false,
     "start_time": "2024-01-11T05:30:11.353533",
     "status": "completed"
    },
    "tags": []
   },
   "outputs": [
    {
     "data": {
      "text/plain": [
       "(-1.1, 1.1, -1.1, 1.1)"
      ]
     },
     "execution_count": 14,
     "metadata": {},
     "output_type": "execute_result"
    },
    {
     "data": {
      "image/png": "[encoded data removed]",
      "text/plain": [
       "<Figure size 640x480 with 1 Axes>"
      ]
     },
     "metadata": {},
     "output_type": "display_data"
    }
   ],
   "source": [
    "education_counts = df['Education_Level'].value_counts()\n",
    "plt.pie(education_counts, labels=education_counts.index, autopct='%1.1f%%')\n",
    "plt.title('Distribution of Education Levels')\n",
    "plt.axis('equal')"
   ]
  },
  {
   "cell_type": "markdown",
   "id": "ee4c251e",
   "metadata": {
    "papermill": {
     "duration": 0.009941,
     "end_time": "2024-01-11T05:30:11.487853",
     "exception": false,
     "start_time": "2024-01-11T05:30:11.477912",
     "status": "completed"
    },
    "tags": []
   },
   "source": [
    "<div style=\"background-color: green; padding: 20px;\">\n",
    "    Job_Offer_Received precentage among thes tudents\n",
    "  </div>"
   ]
  },
  {
   "cell_type": "code",
   "execution_count": 15,
   "id": "2df9dfdc",
   "metadata": {
    "execution": {
     "iopub.execute_input": "2024-01-11T05:30:11.510689Z",
     "iopub.status.busy": "2024-01-11T05:30:11.509546Z",
     "iopub.status.idle": "2024-01-11T05:30:11.595053Z",
     "shell.execute_reply": "2024-01-11T05:30:11.594149Z"
    },
    "papermill": {
     "duration": 0.098679,
     "end_time": "2024-01-11T05:30:11.596847",
     "exception": false,
     "start_time": "2024-01-11T05:30:11.498168",
     "status": "completed"
    },
    "tags": []
   },
   "outputs": [
    {
     "data": {
      "image/png": "[encoded data removed]",
      "text/plain": [
       "<Figure size 640x480 with 1 Axes>"
      ]
     },
     "metadata": {},
     "output_type": "display_data"
    }
   ],
   "source": [
    "job_offer=df.Job_Offer_Received.value_counts()\n",
    "plt.pie(job_offer,labels=job_offer.index, autopct='%1.1f%%');"
   ]
  },
  {
   "cell_type": "markdown",
   "id": "7b658f3b",
   "metadata": {
    "papermill": {
     "duration": 0.010489,
     "end_time": "2024-01-11T05:30:11.674495",
     "exception": false,
     "start_time": "2024-01-11T05:30:11.664006",
     "status": "completed"
    },
    "tags": []
   },
   "source": [
    "<div style=\"background-color: green; padding: 20px;\">\n",
    "what is the most targeted country student tend to travel  </div>"
   ]
  },
  {
   "cell_type": "code",
   "execution_count": 16,
   "id": "3490b2cd",
   "metadata": {
    "execution": {
     "iopub.execute_input": "2024-01-11T05:30:11.698025Z",
     "iopub.status.busy": "2024-01-11T05:30:11.697036Z",
     "iopub.status.idle": "2024-01-11T05:30:12.041307Z",
     "shell.execute_reply": "2024-01-11T05:30:12.040456Z"
    },
    "papermill": {
     "duration": 0.35799,
     "end_time": "2024-01-11T05:30:12.043228",
     "exception": false,
     "start_time": "2024-01-11T05:30:11.685238",
     "status": "completed"
    },
    "tags": []
   },
   "outputs": [
    {
     "data": {
      "image/png": "[encoded data removed]",
      "text/plain": [
       "<Figure size 640x480 with 1 Axes>"
      ]
     },
     "metadata": {},
     "output_type": "display_data"
    }
   ],
   "source": [
    "Target_Country=df.Target_Country.value_counts()\n",
    "sns.barplot(x=Target_Country.index,y=Target_Country.values)\n",
    "plt.xticks(rotation=45);"
   ]
  },
  {
   "cell_type": "markdown",
   "id": "6f4599c8",
   "metadata": {
    "papermill": {
     "duration": 0.011332,
     "end_time": "2024-01-11T05:30:12.065683",
     "exception": false,
     "start_time": "2024-01-11T05:30:12.054351",
     "status": "completed"
    },
    "tags": []
   },
   "source": [
    "<div style=\"background-color: green; padding: 20px;\">\n",
    "what is the  location  that has  students with the highest score   </div>"
   ]
  },
  {
   "cell_type": "code",
   "execution_count": 17,
   "id": "0bcbdf6d",
   "metadata": {
    "execution": {
     "iopub.execute_input": "2024-01-11T05:30:12.089755Z",
     "iopub.status.busy": "2024-01-11T05:30:12.089415Z",
     "iopub.status.idle": "2024-01-11T05:30:12.259757Z",
     "shell.execute_reply": "2024-01-11T05:30:12.258883Z"
    },
    "papermill": {
     "duration": 0.184404,
     "end_time": "2024-01-11T05:30:12.261503",
     "exception": false,
     "start_time": "2024-01-11T05:30:12.077099",
     "status": "completed"
    },
    "tags": []
   },
   "outputs": [
    {
     "name": "stdout",
     "output_type": "stream",
     "text": [
      "Location\n",
      "Islamabad    9.00\n",
      "Karachi      8.50\n",
      "Lahore       8.75\n",
      "Peshawar     9.00\n",
      "Name: IELTS_Score, dtype: float64\n"
     ]
    },
    {
     "data": {
      "text/plain": [
       "Text(0.5, 1.0, 'location VS score')"
      ]
     },
     "execution_count": 17,
     "metadata": {},
     "output_type": "execute_result"
    },
    {
     "data": {
      "image/png": "[encoded data removed]",
      "text/plain": [
       "<Figure size 640x480 with 1 Axes>"
      ]
     },
     "metadata": {},
     "output_type": "display_data"
    }
   ],
   "source": [
    "loc_score=df.groupby('Location')['IELTS_Score'].max()\n",
    "sns.barplot(x=loc_score.sort_values(ascending=False).index,y=loc_score.sort_values(ascending=False).values)\n",
    "print(loc_score)\n",
    "plt.ylabel('score')\n",
    "plt.title(\"location VS score\")"
   ]
  },
  {
   "cell_type": "code",
   "execution_count": 18,
   "id": "d08cd744",
   "metadata": {
    "execution": {
     "iopub.execute_input": "2024-01-11T05:30:12.285827Z",
     "iopub.status.busy": "2024-01-11T05:30:12.285503Z",
     "iopub.status.idle": "2024-01-11T05:30:12.307055Z",
     "shell.execute_reply": "2024-01-11T05:30:12.305832Z"
    },
    "papermill": {
     "duration": 0.035993,
     "end_time": "2024-01-11T05:30:12.308899",
     "exception": false,
     "start_time": "2024-01-11T05:30:12.272906",
     "status": "completed"
    },
    "tags": []
   },
   "outputs": [
    {
     "data": {
      "text/html": [
       "<div>\n",
       "<style scoped>\n",
       "    .dataframe tbody tr th:only-of-type {\n",
       "        vertical-align: middle;\n",
       "    }\n",
       "\n",
       "    .dataframe tbody tr th {\n",
       "        vertical-align: top;\n",
       "    }\n",
       "\n",
       "    .dataframe thead th {\n",
       "        text-align: right;\n",
       "    }\n",
       "</style>\n",
       "<table border=\"1\" class=\"dataframe\">\n",
       "  <thead>\n",
       "    <tr style=\"text-align: right;\">\n",
       "      <th></th>\n",
       "      <th>Candidate</th>\n",
       "      <th>Location</th>\n",
       "      <th>Profession</th>\n",
       "      <th>Study_Duration</th>\n",
       "      <th>IELTS_Score</th>\n",
       "      <th>Key_Strategies</th>\n",
       "      <th>Education_Level</th>\n",
       "      <th>Age</th>\n",
       "      <th>Target_Country</th>\n",
       "      <th>English_Proficiency</th>\n",
       "      <th>...</th>\n",
       "      <th>Preferred_Learning_Resources</th>\n",
       "      <th>Application_Status</th>\n",
       "      <th>Job_Offer_Received</th>\n",
       "      <th>Additional_Certifications</th>\n",
       "      <th>Volunteer_Experience</th>\n",
       "      <th>Language_Fluency</th>\n",
       "      <th>Internship_Experience</th>\n",
       "      <th>Relevant_Skills</th>\n",
       "      <th>Recommendations</th>\n",
       "      <th>Networking_Efforts</th>\n",
       "    </tr>\n",
       "  </thead>\n",
       "  <tbody>\n",
       "    <tr>\n",
       "      <th>0</th>\n",
       "      <td>Aisha</td>\n",
       "      <td>Karachi</td>\n",
       "      <td>Grad Student</td>\n",
       "      <td>3</td>\n",
       "      <td>8.50</td>\n",
       "      <td>Practice, forums, tutoring</td>\n",
       "      <td>Master's</td>\n",
       "      <td>24</td>\n",
       "      <td>Canada</td>\n",
       "      <td>Advanced</td>\n",
       "      <td>...</td>\n",
       "      <td>Online courses, study guides</td>\n",
       "      <td>Under Process</td>\n",
       "      <td>No</td>\n",
       "      <td>TESOL</td>\n",
       "      <td>Yes</td>\n",
       "      <td>Urdu, English</td>\n",
       "      <td>Research Assistant</td>\n",
       "      <td>Data Analysis, Teaching</td>\n",
       "      <td>Strong</td>\n",
       "      <td>LinkedIn, Local Events</td>\n",
       "    </tr>\n",
       "    <tr>\n",
       "      <th>1</th>\n",
       "      <td>Ahmed</td>\n",
       "      <td>Lahore</td>\n",
       "      <td>IT Professional</td>\n",
       "      <td>4</td>\n",
       "      <td>7.50</td>\n",
       "      <td>Balanced schedule, time management, speaking p...</td>\n",
       "      <td>Bachelor's</td>\n",
       "      <td>29</td>\n",
       "      <td>Australia</td>\n",
       "      <td>Intermediate</td>\n",
       "      <td>...</td>\n",
       "      <td>Online forums, practice tests</td>\n",
       "      <td>Approved</td>\n",
       "      <td>Yes</td>\n",
       "      <td>PMP</td>\n",
       "      <td>No</td>\n",
       "      <td>Urdu, English</td>\n",
       "      <td>IT Consultant</td>\n",
       "      <td>Project Management, Programming</td>\n",
       "      <td>Positive</td>\n",
       "      <td>Online Communities</td>\n",
       "    </tr>\n",
       "    <tr>\n",
       "      <th>2</th>\n",
       "      <td>Fatima</td>\n",
       "      <td>Islamabad</td>\n",
       "      <td>School Teacher</td>\n",
       "      <td>2</td>\n",
       "      <td>9.00</td>\n",
       "      <td>Intensive course, online resources, mock inter...</td>\n",
       "      <td>Master's</td>\n",
       "      <td>32</td>\n",
       "      <td>New Zealand</td>\n",
       "      <td>Advanced</td>\n",
       "      <td>...</td>\n",
       "      <td>Study guides, language exchange</td>\n",
       "      <td>Under Process</td>\n",
       "      <td>No</td>\n",
       "      <td>CELTA</td>\n",
       "      <td>Yes</td>\n",
       "      <td>Urdu, English</td>\n",
       "      <td>Curriculum Developer</td>\n",
       "      <td>Lesson Planning, Educational Tech</td>\n",
       "      <td>Positive</td>\n",
       "      <td>Professional Groups</td>\n",
       "    </tr>\n",
       "    <tr>\n",
       "      <th>3</th>\n",
       "      <td>Ali</td>\n",
       "      <td>Peshawar</td>\n",
       "      <td>IT Professional</td>\n",
       "      <td>5</td>\n",
       "      <td>8.00</td>\n",
       "      <td>Focused study, workshops, peer feedback</td>\n",
       "      <td>Bachelor's</td>\n",
       "      <td>27</td>\n",
       "      <td>USA</td>\n",
       "      <td>Advanced</td>\n",
       "      <td>...</td>\n",
       "      <td>Mock exams, speaking clubs</td>\n",
       "      <td>Rejected</td>\n",
       "      <td>No</td>\n",
       "      <td>AWS Certified Solutions Architect</td>\n",
       "      <td>No</td>\n",
       "      <td>Urdu, English</td>\n",
       "      <td>Software Developer</td>\n",
       "      <td>Cloud Computing, Programming</td>\n",
       "      <td>Strong</td>\n",
       "      <td>Online Platforms</td>\n",
       "    </tr>\n",
       "    <tr>\n",
       "      <th>4</th>\n",
       "      <td>Saad</td>\n",
       "      <td>Lahore</td>\n",
       "      <td>Eng. Student</td>\n",
       "      <td>6</td>\n",
       "      <td>8.25</td>\n",
       "      <td>Consistent practice, private tutor, speaking c...</td>\n",
       "      <td>Bachelor's</td>\n",
       "      <td>22</td>\n",
       "      <td>UK</td>\n",
       "      <td>Advanced</td>\n",
       "      <td>...</td>\n",
       "      <td>Online tutorials, speaking practice</td>\n",
       "      <td>Under Process</td>\n",
       "      <td>No</td>\n",
       "      <td>IELTS Examiner</td>\n",
       "      <td>Yes</td>\n",
       "      <td>Urdu, English</td>\n",
       "      <td>Research Assistant</td>\n",
       "      <td>Lab Techniques, Data Analysis</td>\n",
       "      <td>Positive</td>\n",
       "      <td>University Events</td>\n",
       "    </tr>\n",
       "  </tbody>\n",
       "</table>\n",
       "<p>5 rows × 23 columns</p>\n",
       "</div>"
      ],
      "text/plain": [
       "  Candidate   Location       Profession  Study_Duration  IELTS_Score  \\\n",
       "0     Aisha    Karachi     Grad Student               3         8.50   \n",
       "1     Ahmed     Lahore  IT Professional               4         7.50   \n",
       "2    Fatima  Islamabad   School Teacher               2         9.00   \n",
       "3       Ali   Peshawar  IT Professional               5         8.00   \n",
       "4      Saad     Lahore     Eng. Student               6         8.25   \n",
       "\n",
       "                                      Key_Strategies Education_Level  Age  \\\n",
       "0                         Practice, forums, tutoring        Master's   24   \n",
       "1  Balanced schedule, time management, speaking p...      Bachelor's   29   \n",
       "2  Intensive course, online resources, mock inter...        Master's   32   \n",
       "3            Focused study, workshops, peer feedback      Bachelor's   27   \n",
       "4  Consistent practice, private tutor, speaking c...      Bachelor's   22   \n",
       "\n",
       "  Target_Country English_Proficiency  ...  \\\n",
       "0         Canada            Advanced  ...   \n",
       "1      Australia        Intermediate  ...   \n",
       "2    New Zealand            Advanced  ...   \n",
       "3            USA            Advanced  ...   \n",
       "4             UK            Advanced  ...   \n",
       "\n",
       "          Preferred_Learning_Resources  Application_Status Job_Offer_Received  \\\n",
       "0         Online courses, study guides       Under Process                 No   \n",
       "1        Online forums, practice tests            Approved                Yes   \n",
       "2      Study guides, language exchange       Under Process                 No   \n",
       "3           Mock exams, speaking clubs            Rejected                 No   \n",
       "4  Online tutorials, speaking practice       Under Process                 No   \n",
       "\n",
       "           Additional_Certifications Volunteer_Experience Language_Fluency  \\\n",
       "0                              TESOL                  Yes    Urdu, English   \n",
       "1                                PMP                   No    Urdu, English   \n",
       "2                              CELTA                  Yes    Urdu, English   \n",
       "3  AWS Certified Solutions Architect                   No    Urdu, English   \n",
       "4                     IELTS Examiner                  Yes    Urdu, English   \n",
       "\n",
       "  Internship_Experience                    Relevant_Skills Recommendations  \\\n",
       "0    Research Assistant            Data Analysis, Teaching          Strong   \n",
       "1         IT Consultant    Project Management, Programming        Positive   \n",
       "2  Curriculum Developer  Lesson Planning, Educational Tech        Positive   \n",
       "3    Software Developer       Cloud Computing, Programming          Strong   \n",
       "4    Research Assistant      Lab Techniques, Data Analysis        Positive   \n",
       "\n",
       "       Networking_Efforts  \n",
       "0  LinkedIn, Local Events  \n",
       "1      Online Communities  \n",
       "2     Professional Groups  \n",
       "3        Online Platforms  \n",
       "4       University Events  \n",
       "\n",
       "[5 rows x 23 columns]"
      ]
     },
     "execution_count": 18,
     "metadata": {},
     "output_type": "execute_result"
    }
   ],
   "source": [
    "df.head()"
   ]
  },
  {
   "cell_type": "markdown",
   "id": "3d20dd46",
   "metadata": {
    "papermill": {
     "duration": 0.012038,
     "end_time": "2024-01-11T05:30:12.332382",
     "exception": false,
     "start_time": "2024-01-11T05:30:12.320344",
     "status": "completed"
    },
    "tags": []
   },
   "source": [
    "<div style=\"background-color: green; padding: 20px;\">\n",
    "what is the most English Proficiency level  among the Candidate </div>"
   ]
  },
  {
   "cell_type": "code",
   "execution_count": 19,
   "id": "bc41f63c",
   "metadata": {
    "execution": {
     "iopub.execute_input": "2024-01-11T05:30:12.357819Z",
     "iopub.status.busy": "2024-01-11T05:30:12.357481Z",
     "iopub.status.idle": "2024-01-11T05:30:12.488536Z",
     "shell.execute_reply": "2024-01-11T05:30:12.487453Z"
    },
    "papermill": {
     "duration": 0.14643,
     "end_time": "2024-01-11T05:30:12.490628",
     "exception": false,
     "start_time": "2024-01-11T05:30:12.344198",
     "status": "completed"
    },
    "tags": []
   },
   "outputs": [
    {
     "name": "stdout",
     "output_type": "stream",
     "text": [
      "English_Proficiency\n",
      "Advanced        11\n",
      "Intermediate     5\n",
      "Name: count, dtype: int64\n"
     ]
    },
    {
     "data": {
      "image/png": "[encoded data removed]",
      "text/plain": [
       "<Figure size 640x480 with 1 Axes>"
      ]
     },
     "metadata": {},
     "output_type": "display_data"
    }
   ],
   "source": [
    "engl_count=df.English_Proficiency.value_counts()\n",
    "sns.barplot(x=engl_count.index,y=engl_count.values)\n",
    "\n",
    "print(engl_count)"
   ]
  }
 ],
 "metadata": {
  "kaggle": {
   "accelerator": "none",
   "dataSources": [
    {
     "datasetId": 4162756,
     "sourceId": 7197703,
     "sourceType": "datasetVersion"
    }
   ],
   "dockerImageVersionId": 30635,
   "isGpuEnabled": false,
   "isInternetEnabled": true,
   "language": "python",
   "sourceType": "notebook"
  },
  "kernelspec": {
   "display_name": "Python 3",
   "language": "python",
   "name": "python3"
  },
  "language_info": {
   "codemirror_mode": {
    "name": "ipython",
    "version": 3
   },
   "file_extension": ".py",
   "mimetype": "text/x-python",
   "name": "python",
   "nbconvert_exporter": "python",
   "pygments_lexer": "ipython3",
   "version": "3.10.12"
  },
  "papermill": {
   "default_parameters": {},
   "duration": 9.200522,
   "end_time": "2024-01-11T05:30:13.123186",
   "environment_variables": {},
   "exception": null,
   "input_path": "__notebook__.ipynb",
   "output_path": "__notebook__.ipynb",
   "parameters": {},
   "start_time": "2024-01-11T05:30:03.922664",
   "version": "2.4.0"
  }
 },
 "nbformat": 4,
 "nbformat_minor": 5
}
